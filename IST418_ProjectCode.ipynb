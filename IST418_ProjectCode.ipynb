{
  "cells": [
    {
      "cell_type": "code",
      "execution_count": null,
      "metadata": {
        "id": "E-qGvmwbDqYD",
        "colab": {
          "base_uri": "https://localhost:8080/"
        },
        "outputId": "8f4e2aa0-c86e-4ac4-d6c5-74239a754d0e"
      },
      "outputs": [
        {
          "output_type": "stream",
          "name": "stdout",
          "text": [
            "\u001b[2K     \u001b[90m━━━━━━━━━━━━━━━━━━━━━━━━━━━━━━━━━━━━━━━━\u001b[0m \u001b[32m317.0/317.0 MB\u001b[0m \u001b[31m3.8 MB/s\u001b[0m eta \u001b[36m0:00:00\u001b[0m\n",
            "\u001b[?25h  Preparing metadata (setup.py) ... \u001b[?25l\u001b[?25hdone\n",
            "  Building wheel for pyspark (setup.py) ... \u001b[?25l\u001b[?25hdone\n"
          ]
        }
      ],
      "source": [
        "! pip install pyspark -q"
      ]
    },
    {
      "cell_type": "code",
      "execution_count": null,
      "metadata": {
        "colab": {
          "base_uri": "https://localhost:8080/"
        },
        "id": "STuYpyjPnUNP",
        "outputId": "9eca5f86-5d04-493c-bf5a-c09f7586e3d5"
      },
      "outputs": [
        {
          "output_type": "stream",
          "name": "stdout",
          "text": [
            "+----------+------+-------------+-------+----------+------+------------+----------------+---------------+--------------+-------------------+----------------+-----------+-----------+---------------+--------------+----------------+--------------------+--------------+------------+-----+\n",
            "|customerID|gender|SeniorCitizen|Partner|Dependents|tenure|PhoneService|   MultipleLines|InternetService|OnlineSecurity|       OnlineBackup|DeviceProtection|TechSupport|StreamingTV|StreamingMovies|      Contract|PaperlessBilling|       PaymentMethod|MonthlyCharges|TotalCharges|Churn|\n",
            "+----------+------+-------------+-------+----------+------+------------+----------------+---------------+--------------+-------------------+----------------+-----------+-----------+---------------+--------------+----------------+--------------------+--------------+------------+-----+\n",
            "|7590-VHVEG|     0|            0|      1|         0|     1|           0|No phone service|            DSL|             0|                Yes|               0|          0|          0|              0|Month-to-month|               1|    Electronic check|         29.85|       29.85|    0|\n",
            "|5575-GNVDE|     1|            0|      0|         0|    34|           1|              No|            DSL|             1|                 No|               1|          0|          0|              0|      One year|               0|        Mailed check|         56.95|      1889.5|    0|\n",
            "|3668-QPYBK|     1|            0|      0|         0|     2|           1|              No|            DSL|             1|                Yes|               0|          0|          0|              0|Month-to-month|               1|        Mailed check|         53.85|      108.15|    1|\n",
            "|7795-CFOCW|     1|            0|      0|         0|    45|           0|No phone service|            DSL|             1|                 No|               1|          1|          0|              0|      One year|               0|Bank transfer (au...|          42.3|     1840.75|    0|\n",
            "|9237-HQITU|     0|            0|      0|         0|     2|           1|              No|    Fiber optic|             0|                 No|               0|          0|          0|              0|Month-to-month|               1|    Electronic check|          70.7|      151.65|    1|\n",
            "|9305-CDSKC|     0|            0|      0|         0|     8|           1|             Yes|    Fiber optic|             0|                 No|               1|          0|          1|              1|Month-to-month|               1|    Electronic check|         99.65|       820.5|    1|\n",
            "|1452-KIOVK|     1|            0|      0|         1|    22|           1|             Yes|    Fiber optic|             0|                Yes|               0|          0|          1|              0|Month-to-month|               1|Credit card (auto...|          89.1|      1949.4|    0|\n",
            "|6713-OKOMC|     0|            0|      0|         0|    10|           0|No phone service|            DSL|             1|                 No|               0|          0|          0|              0|Month-to-month|               0|        Mailed check|         29.75|       301.9|    0|\n",
            "|7892-POOKP|     0|            0|      1|         0|    28|           1|             Yes|    Fiber optic|             0|                 No|               1|          1|          1|              1|Month-to-month|               1|    Electronic check|         104.8|     3046.05|    1|\n",
            "|6388-TABGU|     1|            0|      0|         1|    62|           1|              No|            DSL|             1|                Yes|               0|          0|          0|              0|      One year|               0|Bank transfer (au...|         56.15|     3487.95|    0|\n",
            "|9763-GRSKD|     1|            0|      1|         1|    13|           1|              No|            DSL|             1|                 No|               0|          0|          0|              0|Month-to-month|               1|        Mailed check|         49.95|      587.45|    0|\n",
            "|7469-LKBCI|     1|            0|      0|         0|    16|           1|              No|             No|             0|No internet service|               0|          0|          0|              0|      Two year|               0|Credit card (auto...|         18.95|       326.8|    0|\n",
            "|8091-TTVAX|     1|            0|      1|         0|    58|           1|             Yes|    Fiber optic|             0|                 No|               1|          0|          1|              1|      One year|               0|Credit card (auto...|        100.35|      5681.1|    0|\n",
            "|0280-XJGEX|     1|            0|      0|         0|    49|           1|             Yes|    Fiber optic|             0|                Yes|               1|          0|          1|              1|Month-to-month|               1|Bank transfer (au...|         103.7|      5036.3|    1|\n",
            "|5129-JLPIS|     1|            0|      0|         0|    25|           1|              No|    Fiber optic|             1|                 No|               1|          1|          1|              1|Month-to-month|               1|    Electronic check|         105.5|     2686.05|    0|\n",
            "|3655-SNQYZ|     0|            0|      1|         1|    69|           1|             Yes|    Fiber optic|             1|                Yes|               1|          1|          1|              1|      Two year|               0|Credit card (auto...|        113.25|     7895.15|    0|\n",
            "|8191-XWSZG|     0|            0|      0|         0|    52|           1|              No|             No|             0|No internet service|               0|          0|          0|              0|      One year|               0|        Mailed check|         20.65|     1022.95|    0|\n",
            "|9959-WOFKT|     1|            0|      0|         1|    71|           1|             Yes|    Fiber optic|             1|                 No|               1|          0|          1|              1|      Two year|               0|Bank transfer (au...|         106.7|     7382.25|    0|\n",
            "|4190-MFLUW|     0|            0|      1|         1|    10|           1|              No|            DSL|             0|                 No|               1|          1|          0|              0|Month-to-month|               0|Credit card (auto...|          55.2|      528.35|    1|\n",
            "|4183-MYFRB|     0|            0|      0|         0|    21|           1|              No|    Fiber optic|             0|                Yes|               1|          0|          0|              1|Month-to-month|               1|    Electronic check|         90.05|      1862.9|    0|\n",
            "+----------+------+-------------+-------+----------+------+------------+----------------+---------------+--------------+-------------------+----------------+-----------+-----------+---------------+--------------+----------------+--------------------+--------------+------------+-----+\n",
            "only showing top 20 rows\n",
            "\n"
          ]
        }
      ],
      "source": [
        "from pyspark.sql import SparkSession\n",
        "from pyspark.sql.functions import when, col\n",
        "\n",
        "spark = SparkSession.builder.appName(\"TelcoDataProcessing\").getOrCreate()\n",
        "telco_df = spark.read.csv(\"/content/Telco.csv\", header=True, inferSchema=True)\n",
        "\n",
        "columns_YN = ['Partner', 'Dependents', 'PhoneService', 'OnlineSecurity', 'DeviceProtection',\n",
        "              'TechSupport', 'StreamingTV', 'StreamingMovies', 'PaperlessBilling', 'Churn']\n",
        "\n",
        "for col_name in columns_YN:\n",
        "    telco_df = telco_df.withColumn(col_name, when(col(col_name) == 'Yes', 1).otherwise(0))\n",
        "\n",
        "telco_df = telco_df.withColumn('gender', when(col('gender') == 'Male', 1).otherwise(0))\n",
        "\n",
        "telco_df = telco_df.withColumn(\"TotalCharges\", col(\"TotalCharges\").cast(\"float\"))\n",
        "\n",
        "telco_df.show()"
      ]
    },
    {
      "cell_type": "code",
      "execution_count": null,
      "metadata": {
        "colab": {
          "base_uri": "https://localhost:8080/"
        },
        "id": "6NwlUxS_nU3x",
        "outputId": "51e1b807-6874-4f19-af16-493914b0162e"
      },
      "outputs": [
        {
          "output_type": "stream",
          "name": "stdout",
          "text": [
            "+----------+------+-------------+-------+----------+------+------------+----------------+---------------+--------------+-------------------+----------------+-----------+-----------+---------------+--------------+----------------+--------------------+--------------+------------+-----+------------+-------------------+-------------+----------------+------------------+-------------------+---------------------+--------------------+------------------+----------------------+-----------------+-----------------+---------------------+--------------+----------------------+-------------------+-----------+\n",
            "|customerID|gender|SeniorCitizen|partner|dependents|tenure|PhoneService|   MultipleLines|InternetService|OnlineSecurity|       OnlineBackup|DeviceProtection|TechSupport|StreamingTV|StreamingMovies|      Contract|PaperlessBilling|       PaymentMethod|MonthlyCharges|TotalCharges|churn|gender_index|SeniorCitizen_index|partner_index|dependents_index|PhoneService_index|MultipleLines_index|InternetService_index|OnlineSecurity_index|OnlineBackup_index|DeviceProtection_index|TechSupport_index|StreamingTV_index|StreamingMovies_index|Contract_index|PaperlessBilling_index|PaymentMethod_index|churn_index|\n",
            "+----------+------+-------------+-------+----------+------+------------+----------------+---------------+--------------+-------------------+----------------+-----------+-----------+---------------+--------------+----------------+--------------------+--------------+------------+-----+------------+-------------------+-------------+----------------+------------------+-------------------+---------------------+--------------------+------------------+----------------------+-----------------+-----------------+---------------------+--------------+----------------------+-------------------+-----------+\n",
            "|7590-VHVEG|     0|            0|      1|         0|     1|           0|No phone service|            DSL|             0|                Yes|               0|          0|          0|              0|Month-to-month|               1|    Electronic check|         29.85|       29.85|    0|         1.0|                0.0|          1.0|             0.0|               1.0|                2.0|                  1.0|                 0.0|               1.0|                   0.0|              0.0|              0.0|                  0.0|           0.0|                   0.0|                0.0|        0.0|\n",
            "|5575-GNVDE|     1|            0|      0|         0|    34|           1|              No|            DSL|             1|                 No|               1|          0|          0|              0|      One year|               0|        Mailed check|         56.95|      1889.5|    0|         0.0|                0.0|          0.0|             0.0|               0.0|                0.0|                  1.0|                 1.0|               0.0|                   1.0|              0.0|              0.0|                  0.0|           2.0|                   1.0|                1.0|        0.0|\n",
            "|3668-QPYBK|     1|            0|      0|         0|     2|           1|              No|            DSL|             1|                Yes|               0|          0|          0|              0|Month-to-month|               1|        Mailed check|         53.85|      108.15|    1|         0.0|                0.0|          0.0|             0.0|               0.0|                0.0|                  1.0|                 1.0|               1.0|                   0.0|              0.0|              0.0|                  0.0|           0.0|                   0.0|                1.0|        1.0|\n",
            "|7795-CFOCW|     1|            0|      0|         0|    45|           0|No phone service|            DSL|             1|                 No|               1|          1|          0|              0|      One year|               0|Bank transfer (au...|          42.3|     1840.75|    0|         0.0|                0.0|          0.0|             0.0|               1.0|                2.0|                  1.0|                 1.0|               0.0|                   1.0|              1.0|              0.0|                  0.0|           2.0|                   1.0|                2.0|        0.0|\n",
            "|9237-HQITU|     0|            0|      0|         0|     2|           1|              No|    Fiber optic|             0|                 No|               0|          0|          0|              0|Month-to-month|               1|    Electronic check|          70.7|      151.65|    1|         1.0|                0.0|          0.0|             0.0|               0.0|                0.0|                  0.0|                 0.0|               0.0|                   0.0|              0.0|              0.0|                  0.0|           0.0|                   0.0|                0.0|        1.0|\n",
            "|9305-CDSKC|     0|            0|      0|         0|     8|           1|             Yes|    Fiber optic|             0|                 No|               1|          0|          1|              1|Month-to-month|               1|    Electronic check|         99.65|       820.5|    1|         1.0|                0.0|          0.0|             0.0|               0.0|                1.0|                  0.0|                 0.0|               0.0|                   1.0|              0.0|              1.0|                  1.0|           0.0|                   0.0|                0.0|        1.0|\n",
            "|1452-KIOVK|     1|            0|      0|         1|    22|           1|             Yes|    Fiber optic|             0|                Yes|               0|          0|          1|              0|Month-to-month|               1|Credit card (auto...|          89.1|      1949.4|    0|         0.0|                0.0|          0.0|             1.0|               0.0|                1.0|                  0.0|                 0.0|               1.0|                   0.0|              0.0|              1.0|                  0.0|           0.0|                   0.0|                3.0|        0.0|\n",
            "|6713-OKOMC|     0|            0|      0|         0|    10|           0|No phone service|            DSL|             1|                 No|               0|          0|          0|              0|Month-to-month|               0|        Mailed check|         29.75|       301.9|    0|         1.0|                0.0|          0.0|             0.0|               1.0|                2.0|                  1.0|                 1.0|               0.0|                   0.0|              0.0|              0.0|                  0.0|           0.0|                   1.0|                1.0|        0.0|\n",
            "|7892-POOKP|     0|            0|      1|         0|    28|           1|             Yes|    Fiber optic|             0|                 No|               1|          1|          1|              1|Month-to-month|               1|    Electronic check|         104.8|     3046.05|    1|         1.0|                0.0|          1.0|             0.0|               0.0|                1.0|                  0.0|                 0.0|               0.0|                   1.0|              1.0|              1.0|                  1.0|           0.0|                   0.0|                0.0|        1.0|\n",
            "|6388-TABGU|     1|            0|      0|         1|    62|           1|              No|            DSL|             1|                Yes|               0|          0|          0|              0|      One year|               0|Bank transfer (au...|         56.15|     3487.95|    0|         0.0|                0.0|          0.0|             1.0|               0.0|                0.0|                  1.0|                 1.0|               1.0|                   0.0|              0.0|              0.0|                  0.0|           2.0|                   1.0|                2.0|        0.0|\n",
            "|9763-GRSKD|     1|            0|      1|         1|    13|           1|              No|            DSL|             1|                 No|               0|          0|          0|              0|Month-to-month|               1|        Mailed check|         49.95|      587.45|    0|         0.0|                0.0|          1.0|             1.0|               0.0|                0.0|                  1.0|                 1.0|               0.0|                   0.0|              0.0|              0.0|                  0.0|           0.0|                   0.0|                1.0|        0.0|\n",
            "|7469-LKBCI|     1|            0|      0|         0|    16|           1|              No|             No|             0|No internet service|               0|          0|          0|              0|      Two year|               0|Credit card (auto...|         18.95|       326.8|    0|         0.0|                0.0|          0.0|             0.0|               0.0|                0.0|                  2.0|                 0.0|               2.0|                   0.0|              0.0|              0.0|                  0.0|           1.0|                   1.0|                3.0|        0.0|\n",
            "|8091-TTVAX|     1|            0|      1|         0|    58|           1|             Yes|    Fiber optic|             0|                 No|               1|          0|          1|              1|      One year|               0|Credit card (auto...|        100.35|      5681.1|    0|         0.0|                0.0|          1.0|             0.0|               0.0|                1.0|                  0.0|                 0.0|               0.0|                   1.0|              0.0|              1.0|                  1.0|           2.0|                   1.0|                3.0|        0.0|\n",
            "|0280-XJGEX|     1|            0|      0|         0|    49|           1|             Yes|    Fiber optic|             0|                Yes|               1|          0|          1|              1|Month-to-month|               1|Bank transfer (au...|         103.7|      5036.3|    1|         0.0|                0.0|          0.0|             0.0|               0.0|                1.0|                  0.0|                 0.0|               1.0|                   1.0|              0.0|              1.0|                  1.0|           0.0|                   0.0|                2.0|        1.0|\n",
            "|5129-JLPIS|     1|            0|      0|         0|    25|           1|              No|    Fiber optic|             1|                 No|               1|          1|          1|              1|Month-to-month|               1|    Electronic check|         105.5|     2686.05|    0|         0.0|                0.0|          0.0|             0.0|               0.0|                0.0|                  0.0|                 1.0|               0.0|                   1.0|              1.0|              1.0|                  1.0|           0.0|                   0.0|                0.0|        0.0|\n",
            "|3655-SNQYZ|     0|            0|      1|         1|    69|           1|             Yes|    Fiber optic|             1|                Yes|               1|          1|          1|              1|      Two year|               0|Credit card (auto...|        113.25|     7895.15|    0|         1.0|                0.0|          1.0|             1.0|               0.0|                1.0|                  0.0|                 1.0|               1.0|                   1.0|              1.0|              1.0|                  1.0|           1.0|                   1.0|                3.0|        0.0|\n",
            "|8191-XWSZG|     0|            0|      0|         0|    52|           1|              No|             No|             0|No internet service|               0|          0|          0|              0|      One year|               0|        Mailed check|         20.65|     1022.95|    0|         1.0|                0.0|          0.0|             0.0|               0.0|                0.0|                  2.0|                 0.0|               2.0|                   0.0|              0.0|              0.0|                  0.0|           2.0|                   1.0|                1.0|        0.0|\n",
            "|9959-WOFKT|     1|            0|      0|         1|    71|           1|             Yes|    Fiber optic|             1|                 No|               1|          0|          1|              1|      Two year|               0|Bank transfer (au...|         106.7|     7382.25|    0|         0.0|                0.0|          0.0|             1.0|               0.0|                1.0|                  0.0|                 1.0|               0.0|                   1.0|              0.0|              1.0|                  1.0|           1.0|                   1.0|                2.0|        0.0|\n",
            "|4190-MFLUW|     0|            0|      1|         1|    10|           1|              No|            DSL|             0|                 No|               1|          1|          0|              0|Month-to-month|               0|Credit card (auto...|          55.2|      528.35|    1|         1.0|                0.0|          1.0|             1.0|               0.0|                0.0|                  1.0|                 0.0|               0.0|                   1.0|              1.0|              0.0|                  0.0|           0.0|                   1.0|                3.0|        1.0|\n",
            "|4183-MYFRB|     0|            0|      0|         0|    21|           1|              No|    Fiber optic|             0|                Yes|               1|          0|          0|              1|Month-to-month|               1|    Electronic check|         90.05|      1862.9|    0|         1.0|                0.0|          0.0|             0.0|               0.0|                0.0|                  0.0|                 0.0|               1.0|                   1.0|              0.0|              0.0|                  1.0|           0.0|                   0.0|                0.0|        0.0|\n",
            "+----------+------+-------------+-------+----------+------+------------+----------------+---------------+--------------+-------------------+----------------+-----------+-----------+---------------+--------------+----------------+--------------------+--------------+------------+-----+------------+-------------------+-------------+----------------+------------------+-------------------+---------------------+--------------------+------------------+----------------------+-----------------+-----------------+---------------------+--------------+----------------------+-------------------+-----------+\n",
            "only showing top 20 rows\n",
            "\n"
          ]
        }
      ],
      "source": [
        "from pyspark.ml.feature import StringIndexer\n",
        "from pyspark.sql import SparkSession\n",
        "from pyspark.sql.types import StringType\n",
        "\n",
        "categorical_cols = ['gender', 'SeniorCitizen','partner', 'dependents', 'PhoneService', 'MultipleLines',\n",
        "                    'InternetService', 'OnlineSecurity', 'OnlineBackup', 'DeviceProtection',\n",
        "                    'TechSupport', 'StreamingTV', 'StreamingMovies', 'Contract',\n",
        "                    'PaperlessBilling', 'PaymentMethod', 'churn']\n",
        "\n",
        "for col in categorical_cols:\n",
        "    telco_df = telco_df.withColumn(col, telco_df[col].cast(StringType()))\n",
        "\n",
        "indexers = [StringIndexer(inputCol=col, outputCol=col+\"_index\", handleInvalid=\"keep\")\n",
        "            for col in categorical_cols]\n",
        "\n",
        "indexed_df = telco_df\n",
        "for indexer in indexers:\n",
        "    indexed_df = indexer.fit(indexed_df).transform(indexed_df)\n",
        "\n",
        "indexed_df.show()"
      ]
    },
    {
      "cell_type": "code",
      "execution_count": null,
      "metadata": {
        "colab": {
          "base_uri": "https://localhost:8080/"
        },
        "id": "D-4ujINenYjt",
        "outputId": "35d18229-6f5d-47a2-db1b-9d495cdc4248"
      },
      "outputs": [
        {
          "output_type": "stream",
          "name": "stdout",
          "text": [
            "root\n",
            " |-- customerID: string (nullable = true)\n",
            " |-- tenure: integer (nullable = true)\n",
            " |-- MonthlyCharges: double (nullable = true)\n",
            " |-- TotalCharges: float (nullable = true)\n",
            " |-- gender_index: double (nullable = false)\n",
            " |-- SeniorCitizen_index: double (nullable = false)\n",
            " |-- partner_index: double (nullable = false)\n",
            " |-- dependents_index: double (nullable = false)\n",
            " |-- PhoneService_index: double (nullable = false)\n",
            " |-- MultipleLines_index: double (nullable = false)\n",
            " |-- InternetService_index: double (nullable = false)\n",
            " |-- OnlineSecurity_index: double (nullable = false)\n",
            " |-- OnlineBackup_index: double (nullable = false)\n",
            " |-- DeviceProtection_index: double (nullable = false)\n",
            " |-- TechSupport_index: double (nullable = false)\n",
            " |-- StreamingTV_index: double (nullable = false)\n",
            " |-- StreamingMovies_index: double (nullable = false)\n",
            " |-- Contract_index: double (nullable = false)\n",
            " |-- PaperlessBilling_index: double (nullable = false)\n",
            " |-- PaymentMethod_index: double (nullable = false)\n",
            " |-- churn_index: double (nullable = false)\n",
            "\n"
          ]
        }
      ],
      "source": [
        "indexed_df_dropped = indexed_df.drop(*categorical_cols)\n",
        "indexed_df_dropped.printSchema()"
      ]
    },
    {
      "cell_type": "code",
      "execution_count": null,
      "metadata": {
        "colab": {
          "base_uri": "https://localhost:8080/"
        },
        "id": "fAsOTys5nc1f",
        "outputId": "2c93bd2f-4b13-401f-81d1-e75eb8aa5268"
      },
      "outputs": [
        {
          "output_type": "stream",
          "name": "stdout",
          "text": [
            "root\n",
            " |-- tenure: integer (nullable = true)\n",
            " |-- MonthlyCharges: double (nullable = true)\n",
            " |-- TotalCharges: float (nullable = true)\n",
            " |-- gender_index: double (nullable = false)\n",
            " |-- SeniorCitizen_index: double (nullable = false)\n",
            " |-- partner_index: double (nullable = false)\n",
            " |-- dependents_index: double (nullable = false)\n",
            " |-- PhoneService_index: double (nullable = false)\n",
            " |-- MultipleLines_index: double (nullable = false)\n",
            " |-- InternetService_index: double (nullable = false)\n",
            " |-- OnlineSecurity_index: double (nullable = false)\n",
            " |-- OnlineBackup_index: double (nullable = false)\n",
            " |-- DeviceProtection_index: double (nullable = false)\n",
            " |-- TechSupport_index: double (nullable = false)\n",
            " |-- StreamingTV_index: double (nullable = false)\n",
            " |-- StreamingMovies_index: double (nullable = false)\n",
            " |-- Contract_index: double (nullable = false)\n",
            " |-- PaperlessBilling_index: double (nullable = false)\n",
            " |-- PaymentMethod_index: double (nullable = false)\n",
            " |-- churn_index: double (nullable = false)\n",
            "\n"
          ]
        }
      ],
      "source": [
        "indexed_df_dropped_noCID = indexed_df_dropped.drop(\"customerID\")\n",
        "indexed_df_dropped_noCID.printSchema()"
      ]
    },
    {
      "cell_type": "code",
      "execution_count": null,
      "metadata": {
        "id": "li5WqYKhnH_B",
        "colab": {
          "base_uri": "https://localhost:8080/"
        },
        "outputId": "3188980a-38dc-453c-ee3a-b04881d5502e"
      },
      "outputs": [
        {
          "output_type": "stream",
          "name": "stdout",
          "text": [
            "+----------+-----------+----------+\n",
            "|customerID|churn_index|prediction|\n",
            "+----------+-----------+----------+\n",
            "|0004-TLHLJ|        1.0|       1.0|\n",
            "|0013-SMEOE|        0.0|       0.0|\n",
            "|0015-UOCOJ|        0.0|       0.0|\n",
            "|0016-QLJIS|        0.0|       0.0|\n",
            "|0019-EFAEP|        0.0|       0.0|\n",
            "|0019-GFNTW|        0.0|       0.0|\n",
            "|0020-INWCK|        0.0|       0.0|\n",
            "|0023-HGHWL|        1.0|       1.0|\n",
            "|0023-XUOPT|        1.0|       1.0|\n",
            "|0030-FNXPP|        0.0|       0.0|\n",
            "|0031-PVLZI|        1.0|       0.0|\n",
            "|0042-JVWOJ|        0.0|       0.0|\n",
            "|0042-RLHYP|        0.0|       0.0|\n",
            "|0048-LUMLS|        0.0|       0.0|\n",
            "|0052-DCKON|        0.0|       0.0|\n",
            "|0056-EPFBG|        0.0|       0.0|\n",
            "|0057-QBUQH|        0.0|       0.0|\n",
            "|0064-YIJGF|        0.0|       0.0|\n",
            "|0071-NDAFP|        0.0|       0.0|\n",
            "|0074-HDKDG|        0.0|       0.0|\n",
            "+----------+-----------+----------+\n",
            "only showing top 20 rows\n",
            "\n",
            "False Positives: 175\n",
            "False Negatives: 220\n",
            "Accuracy: 0.8031888390632785\n"
          ]
        }
      ],
      "source": [
        "#Decision Tree\n",
        "\n",
        "from pyspark.sql.functions import col\n",
        "from pyspark.ml.feature import VectorAssembler\n",
        "from pyspark.ml.classification import DecisionTreeClassifier\n",
        "from pyspark.ml import Pipeline\n",
        "from pyspark.sql import SparkSession\n",
        "from pyspark.ml.evaluation import MulticlassClassificationEvaluator\n",
        "\n",
        "spark = SparkSession.builder \\\n",
        "    .appName(\"Decision Tree Churn Prediction\") \\\n",
        "    .getOrCreate()\n",
        "\n",
        "feature_cols = ['tenure', 'MonthlyCharges', 'TotalCharges', 'gender_index', 'SeniorCitizen_index',\n",
        "                'partner_index', 'dependents_index', 'PhoneService_index', 'MultipleLines_index',\n",
        "                'InternetService_index', 'OnlineSecurity_index', 'OnlineBackup_index',\n",
        "                'DeviceProtection_index', 'TechSupport_index', 'StreamingTV_index',\n",
        "                'StreamingMovies_index', 'Contract_index', 'PaperlessBilling_index',\n",
        "                'PaymentMethod_index']\n",
        "\n",
        "for col_name in feature_cols:\n",
        "    indexed_df_dropped = indexed_df_dropped.withColumn(col_name, col(col_name).cast(\"double\")).fillna(0, subset=[col_name])\n",
        "\n",
        "assembler = VectorAssembler(inputCols=feature_cols, outputCol=\"features\")\n",
        "\n",
        "dt = DecisionTreeClassifier(labelCol=\"churn_index\", featuresCol=\"features\")\n",
        "\n",
        "pipeline = Pipeline(stages=[assembler, dt])\n",
        "\n",
        "train_data, test_data = indexed_df_dropped.randomSplit([0.7, 0.3], seed=42)\n",
        "\n",
        "model = pipeline.fit(train_data)\n",
        "\n",
        "predictions = model.transform(test_data)\n",
        "\n",
        "evaluator = MulticlassClassificationEvaluator(labelCol=\"churn_index\", predictionCol=\"prediction\", metricName=\"accuracy\")\n",
        "accuracy = evaluator.evaluate(predictions)\n",
        "\n",
        "fp = predictions.filter(\"prediction == 1 AND churn_index == 0\").count()\n",
        "fn = predictions.filter(\"prediction == 0 AND churn_index == 1\").count()\n",
        "\n",
        "predictions.select(\"customerID\", \"churn_index\", \"prediction\").show()\n",
        "\n",
        "print(\"False Positives:\", fp)\n",
        "print(\"False Negatives:\", fn)\n",
        "print(\"Accuracy:\", accuracy)"
      ]
    },
    {
      "cell_type": "code",
      "execution_count": null,
      "metadata": {
        "colab": {
          "base_uri": "https://localhost:8080/"
        },
        "id": "70m8_Ga7qbJJ",
        "outputId": "9ee1bf7f-aa41-4b6c-b6cb-7324b4c773dc"
      },
      "outputs": [
        {
          "output_type": "stream",
          "name": "stdout",
          "text": [
            "Rank 1: Contract_index - Importance: 0.2628144465249463\n",
            "Rank 2: tenure - Importance: 0.20177730974007463\n",
            "Rank 3: InternetService_index - Importance: 0.17911902268639615\n",
            "Rank 4: TotalCharges - Importance: 0.10619793339133769\n",
            "Rank 5: OnlineBackup_index - Importance: 0.05932397091454907\n",
            "Rank 6: PaymentMethod_index - Importance: 0.05750643334678044\n",
            "Rank 7: MonthlyCharges - Importance: 0.05701701380535436\n",
            "Rank 8: PaperlessBilling_index - Importance: 0.02027749660703685\n",
            "Rank 9: TechSupport_index - Importance: 0.01893204339318858\n",
            "Rank 10: StreamingMovies_index - Importance: 0.0070134177423893515\n",
            "Rank 11: OnlineSecurity_index - Importance: 0.006748531634138609\n",
            "Rank 12: MultipleLines_index - Importance: 0.004883971781073422\n",
            "Rank 13: SeniorCitizen_index - Importance: 0.004015441773412743\n",
            "Rank 14: dependents_index - Importance: 0.0036262645459724124\n",
            "Rank 15: partner_index - Importance: 0.0034467316215871908\n",
            "Rank 16: PhoneService_index - Importance: 0.0029736327735527743\n",
            "Rank 17: StreamingTV_index - Importance: 0.0029183844365721972\n",
            "Rank 18: DeviceProtection_index - Importance: 0.0008735306719202675\n",
            "Rank 19: gender_index - Importance: 0.0005344226097167848\n"
          ]
        }
      ],
      "source": [
        "#Random Forest\n",
        "\n",
        "from pyspark.sql import SparkSession\n",
        "from pyspark.ml.feature import VectorAssembler\n",
        "from pyspark.ml.classification import RandomForestClassifier\n",
        "from pyspark.ml.feature import StringIndexer\n",
        "from pyspark.ml import Pipeline\n",
        "\n",
        "spark = SparkSession.builder.appName(\"FeatureImportance\").getOrCreate()\n",
        "\n",
        "feature_columns = [col for col in indexed_df_dropped.columns if col not in ['churn_index', 'customerID']]\n",
        "assembler = VectorAssembler(inputCols=feature_columns, outputCol=\"features\")\n",
        "labelIndexer = StringIndexer(inputCol=\"churn_index\", outputCol=\"indexedLabel\").fit(indexed_df_dropped)\n",
        "\n",
        "(train_data, test_data) = indexed_df_dropped.randomSplit([0.7, 0.3], seed=42)\n",
        "rf = RandomForestClassifier(labelCol=\"indexedLabel\", featuresCol=\"features\")\n",
        "\n",
        "pipeline = Pipeline(stages=[assembler, labelIndexer, rf])\n",
        "model = pipeline.fit(train_data)\n",
        "importances = model.stages[-1].featureImportances\n",
        "\n",
        "feature_importances = sorted(zip(importances, feature_columns), reverse=True)\n",
        "\n",
        "rank = 1\n",
        "for importance, feature_name in feature_importances:\n",
        "    print(f\"Rank {rank}: {feature_name} - Importance: {importance}\")\n",
        "    rank += 1"
      ]
    },
    {
      "cell_type": "code",
      "execution_count": null,
      "metadata": {
        "colab": {
          "base_uri": "https://localhost:8080/"
        },
        "id": "hwWjAuPqMXpQ",
        "outputId": "cd1456f7-a008-41d4-ad45-2df57501dc5d"
      },
      "outputs": [
        {
          "output_type": "stream",
          "name": "stdout",
          "text": [
            "+----------+--------+--------------------+--------------------+\n",
            "|Model_Type|Accuracy|False_Positive_Count|False_Negative_Count|\n",
            "+----------+--------+--------------------+--------------------+\n",
            "+----------+--------+--------------------+--------------------+\n",
            "\n"
          ]
        }
      ],
      "source": [
        "from pyspark.sql import SparkSession\n",
        "from pyspark.sql.types import StructType, StructField, IntegerType, StringType, DoubleType\n",
        "from pyspark.sql.functions import col, concat, lit, format_number\n",
        "\n",
        "\n",
        "spark = SparkSession.builder \\\n",
        "    .appName(\"Logistic Regression Churn Prediction\") \\\n",
        "    .getOrCreate()\n",
        "\n",
        "schema = StructType([\n",
        "    StructField(\"Model_Type\", StringType(), True),\n",
        "    StructField(\"Accuracy\", DoubleType(), True),\n",
        "    StructField(\"False_Positive_Count\", IntegerType(), True),\n",
        "    StructField(\"False_Negative_Count\", IntegerType(), True)\n",
        "])\n",
        "\n",
        "result_df = spark.createDataFrame([], schema)\n",
        "\n",
        "result_df.show()"
      ]
    },
    {
      "cell_type": "code",
      "execution_count": null,
      "metadata": {
        "colab": {
          "base_uri": "https://localhost:8080/"
        },
        "id": "tXa61fJxz6JW",
        "outputId": "1563e569-8c72-4cf1-8f12-ff482dd0f78a"
      },
      "outputs": [
        {
          "output_type": "stream",
          "name": "stdout",
          "text": [
            "+----------+-----------+----------+\n",
            "|customerID|churn_index|prediction|\n",
            "+----------+-----------+----------+\n",
            "|0004-TLHLJ|        1.0|       1.0|\n",
            "|0013-SMEOE|        0.0|       0.0|\n",
            "|0015-UOCOJ|        0.0|       0.0|\n",
            "|0016-QLJIS|        0.0|       0.0|\n",
            "|0019-EFAEP|        0.0|       0.0|\n",
            "|0019-GFNTW|        0.0|       0.0|\n",
            "|0020-INWCK|        0.0|       0.0|\n",
            "|0023-HGHWL|        1.0|       1.0|\n",
            "|0023-XUOPT|        1.0|       1.0|\n",
            "|0030-FNXPP|        0.0|       0.0|\n",
            "|0031-PVLZI|        1.0|       0.0|\n",
            "|0042-JVWOJ|        0.0|       0.0|\n",
            "|0042-RLHYP|        0.0|       0.0|\n",
            "|0048-LUMLS|        0.0|       0.0|\n",
            "|0052-DCKON|        0.0|       0.0|\n",
            "|0056-EPFBG|        0.0|       0.0|\n",
            "|0057-QBUQH|        0.0|       0.0|\n",
            "|0064-YIJGF|        0.0|       0.0|\n",
            "|0071-NDAFP|        0.0|       0.0|\n",
            "|0074-HDKDG|        0.0|       0.0|\n",
            "+----------+-----------+----------+\n",
            "only showing top 20 rows\n",
            "\n",
            "False Positives: 175\n",
            "False Negatives: 220\n",
            "Accuracy: 0.8031888390632785\n"
          ]
        }
      ],
      "source": [
        "#Decision Tree\n",
        "\n",
        "from pyspark.sql.functions import col\n",
        "from pyspark.ml.feature import VectorAssembler\n",
        "from pyspark.ml.classification import DecisionTreeClassifier\n",
        "from pyspark.ml import Pipeline\n",
        "from pyspark.ml.evaluation import MulticlassClassificationEvaluator\n",
        "from pyspark.sql import SparkSession\n",
        "\n",
        "spark = SparkSession.builder \\\n",
        "    .appName(\"Decision Tree Churn Prediction\") \\\n",
        "    .getOrCreate()\n",
        "\n",
        "feature_cols = ['tenure', 'MonthlyCharges', 'TotalCharges', 'SeniorCitizen_index',\n",
        "                'MultipleLines_index', 'InternetService_index', 'OnlineSecurity_index',\n",
        "                'OnlineBackup_index', 'TechSupport_index', 'StreamingTV_index',\n",
        "                'StreamingMovies_index', 'Contract_index', 'PaperlessBilling_index',\n",
        "                'PaymentMethod_index']\n",
        "\n",
        "for model_type in [\"Decision Tree\"]:\n",
        "    for col_name in feature_cols:\n",
        "        indexed_df_dropped = indexed_df_dropped.withColumn(col_name, col(col_name).cast(\"double\")).fillna(0, subset=[col_name])\n",
        "\n",
        "    assembler = VectorAssembler(inputCols=feature_cols, outputCol=\"features\")\n",
        "\n",
        "    dt = DecisionTreeClassifier(labelCol=\"churn_index\", featuresCol=\"features\")\n",
        "\n",
        "    pipeline = Pipeline(stages=[assembler, dt])\n",
        "\n",
        "    train_data, test_data = indexed_df_dropped.randomSplit([0.7, 0.3], seed=42)\n",
        "\n",
        "    model = pipeline.fit(train_data)\n",
        "\n",
        "    predictions = model.transform(test_data)\n",
        "\n",
        "    evaluator = MulticlassClassificationEvaluator(labelCol=\"churn_index\", predictionCol=\"prediction\", metricName=\"accuracy\")\n",
        "    accuracy = evaluator.evaluate(predictions)\n",
        "\n",
        "    fp = predictions.filter(\"prediction == 1 AND churn_index == 0\").count()\n",
        "    fn = predictions.filter(\"prediction == 0 AND churn_index == 1\").count()\n",
        "\n",
        "    result_df = result_df.union(spark.createDataFrame([(model_type,accuracy,fp,fn)], [\"Model_Type\",\"Accuracy\", \"False_Positive_Count\",\"False_Negative_Count\"]))\n",
        "\n",
        "    predictions.select(\"customerID\", \"churn_index\", \"prediction\").show()\n",
        "\n",
        "    print(\"False Positives:\", fp)\n",
        "    print(\"False Negatives:\", fn)\n",
        "    print(\"Accuracy:\", accuracy)\n"
      ]
    },
    {
      "cell_type": "code",
      "execution_count": null,
      "metadata": {
        "colab": {
          "base_uri": "https://localhost:8080/"
        },
        "id": "slO5JgH7LXJP",
        "outputId": "f0876389-e414-4ab0-b968-9af31d546b7d"
      },
      "outputs": [
        {
          "output_type": "stream",
          "name": "stdout",
          "text": [
            "+----------+-----------+----------+\n",
            "|customerID|churn_index|prediction|\n",
            "+----------+-----------+----------+\n",
            "|0004-TLHLJ|        1.0|       1.0|\n",
            "|0013-SMEOE|        0.0|       0.0|\n",
            "|0015-UOCOJ|        0.0|       0.0|\n",
            "|0016-QLJIS|        0.0|       0.0|\n",
            "|0019-EFAEP|        0.0|       0.0|\n",
            "|0019-GFNTW|        0.0|       0.0|\n",
            "|0020-INWCK|        0.0|       0.0|\n",
            "|0023-HGHWL|        1.0|       1.0|\n",
            "|0023-XUOPT|        1.0|       1.0|\n",
            "|0030-FNXPP|        0.0|       0.0|\n",
            "|0031-PVLZI|        1.0|       0.0|\n",
            "|0042-JVWOJ|        0.0|       0.0|\n",
            "|0042-RLHYP|        0.0|       0.0|\n",
            "|0048-LUMLS|        0.0|       0.0|\n",
            "|0052-DCKON|        0.0|       0.0|\n",
            "|0056-EPFBG|        0.0|       0.0|\n",
            "|0057-QBUQH|        0.0|       0.0|\n",
            "|0064-YIJGF|        0.0|       0.0|\n",
            "|0071-NDAFP|        0.0|       0.0|\n",
            "|0074-HDKDG|        0.0|       0.0|\n",
            "+----------+-----------+----------+\n",
            "only showing top 20 rows\n",
            "\n",
            "False Positives: 130\n",
            "False Negatives: 243\n",
            "Accuracy: 0.8141504733432985\n"
          ]
        }
      ],
      "source": [
        "from pyspark.sql import SparkSession\n",
        "from pyspark.sql.functions import col\n",
        "from pyspark.ml.feature import VectorAssembler\n",
        "from pyspark.ml.classification import LogisticRegression\n",
        "from pyspark.ml import Pipeline\n",
        "from pyspark.ml.evaluation import MulticlassClassificationEvaluator\n",
        "\n",
        "spark = SparkSession.builder \\\n",
        "    .appName(\"Logistic Regression Churn Prediction\") \\\n",
        "    .getOrCreate()\n",
        "\n",
        "\n",
        "for model_type in [\"Logistic Regression\"]:\n",
        "    for col_name in feature_cols:\n",
        "        indexed_df_dropped = indexed_df_dropped.withColumn(col_name, col(col_name).cast(\"double\")).fillna(0, subset=[col_name])\n",
        "\n",
        "    assembler = VectorAssembler(inputCols=feature_cols, outputCol=\"features\")\n",
        "\n",
        "    lr = LogisticRegression(labelCol=\"churn_index\", featuresCol=\"features\")\n",
        "\n",
        "    pipeline = Pipeline(stages=[assembler, lr])\n",
        "\n",
        "    train_data, test_data = indexed_df_dropped.randomSplit([0.7, 0.3], seed=42)\n",
        "\n",
        "    model = pipeline.fit(train_data)\n",
        "\n",
        "    predictions = model.transform(test_data)\n",
        "\n",
        "    evaluator = MulticlassClassificationEvaluator(labelCol=\"churn_index\", predictionCol=\"prediction\", metricName=\"accuracy\")\n",
        "    accuracy = evaluator.evaluate(predictions)\n",
        "\n",
        "    fp = predictions.filter(\"prediction == 1 AND churn_index == 0\").count()\n",
        "    fn = predictions.filter(\"prediction == 0 AND churn_index == 1\").count()\n",
        "\n",
        "    result_df = result_df.union(spark.createDataFrame([(model_type,accuracy,fp,fn)], [\"Model_Type\",\"Accuracy\", \"False_Positive_Count\",\"False_Negative_Count\"]))\n",
        "\n",
        "    predictions.select(\"customerID\", \"churn_index\", \"prediction\").show()\n",
        "\n",
        "    print(\"False Positives:\", fp)\n",
        "    print(\"False Negatives:\", fn)\n",
        "    print(\"Accuracy:\", accuracy)"
      ]
    },
    {
      "cell_type": "code",
      "execution_count": null,
      "metadata": {
        "colab": {
          "base_uri": "https://localhost:8080/"
        },
        "id": "NWf5GvoNb9ug",
        "outputId": "12037090-fc1a-4ab1-e1f8-32e4d001fd49"
      },
      "outputs": [
        {
          "output_type": "stream",
          "name": "stdout",
          "text": [
            "+----------+-----------+----------+\n",
            "|customerID|churn_index|prediction|\n",
            "+----------+-----------+----------+\n",
            "|0004-TLHLJ|        1.0|       1.0|\n",
            "|0013-SMEOE|        0.0|       0.0|\n",
            "|0015-UOCOJ|        0.0|       0.0|\n",
            "|0016-QLJIS|        0.0|       0.0|\n",
            "|0019-EFAEP|        0.0|       0.0|\n",
            "|0019-GFNTW|        0.0|       0.0|\n",
            "|0020-INWCK|        0.0|       0.0|\n",
            "|0023-HGHWL|        1.0|       1.0|\n",
            "|0023-XUOPT|        1.0|       1.0|\n",
            "|0030-FNXPP|        0.0|       0.0|\n",
            "|0031-PVLZI|        1.0|       0.0|\n",
            "|0042-JVWOJ|        0.0|       0.0|\n",
            "|0042-RLHYP|        0.0|       0.0|\n",
            "|0048-LUMLS|        0.0|       0.0|\n",
            "|0052-DCKON|        0.0|       0.0|\n",
            "|0056-EPFBG|        0.0|       0.0|\n",
            "|0057-QBUQH|        0.0|       0.0|\n",
            "|0064-YIJGF|        0.0|       0.0|\n",
            "|0071-NDAFP|        0.0|       0.0|\n",
            "|0074-HDKDG|        0.0|       0.0|\n",
            "+----------+-----------+----------+\n",
            "only showing top 20 rows\n",
            "\n",
            "False Positives: 134\n",
            "False Negatives: 257\n",
            "Accuracy: 0.8051818634778276\n"
          ]
        }
      ],
      "source": [
        "#gbt\n",
        "\n",
        "from pyspark.sql.functions import col\n",
        "from pyspark.ml.feature import VectorAssembler\n",
        "from pyspark.ml.classification import GBTClassifier\n",
        "from pyspark.ml import Pipeline\n",
        "from pyspark.ml.evaluation import MulticlassClassificationEvaluator\n",
        "from pyspark.sql import SparkSession\n",
        "\n",
        "spark = SparkSession.builder \\\n",
        "    .appName(\"GBT Churn Prediction\") \\\n",
        "    .getOrCreate()\n",
        "\n",
        "for model_type in [\"GBT\"]:\n",
        "      for col_name in feature_cols:\n",
        "            indexed_df_dropped = indexed_df_dropped.withColumn(col_name, col(col_name).cast(\"double\")).fillna(0, subset=[col_name])\n",
        "\n",
        "      assembler = VectorAssembler(inputCols=feature_cols, outputCol=\"features\")\n",
        "\n",
        "      gbt = GBTClassifier(labelCol=\"churn_index\", featuresCol=\"features\")\n",
        "\n",
        "      pipeline = Pipeline(stages=[assembler, gbt])\n",
        "\n",
        "      train_data, test_data = indexed_df_dropped.randomSplit([0.7, 0.3], seed=42)\n",
        "\n",
        "      model = pipeline.fit(train_data)\n",
        "\n",
        "      predictions = model.transform(test_data)\n",
        "\n",
        "      evaluator = MulticlassClassificationEvaluator(labelCol=\"churn_index\", predictionCol=\"prediction\", metricName=\"accuracy\")\n",
        "      accuracy = evaluator.evaluate(predictions)\n",
        "\n",
        "      fp = predictions.filter(\"prediction == 1 AND churn_index == 0\").count()\n",
        "      fn = predictions.filter(\"prediction == 0 AND churn_index == 1\").count()\n",
        "\n",
        "      result_df = result_df.union(spark.createDataFrame([(model_type,accuracy,fp,fn)], [\"Model_Type\",\"Accuracy\", \"False_Positive_Count\",\"False_Negative_Count\"]))\n",
        "\n",
        "      predictions.select(\"customerID\", \"churn_index\", \"prediction\").show()\n",
        "\n",
        "      print(\"False Positives:\", fp)\n",
        "      print(\"False Negatives:\", fn)\n",
        "      print(\"Accuracy:\", accuracy)"
      ]
    },
    {
      "cell_type": "code",
      "execution_count": null,
      "metadata": {
        "colab": {
          "base_uri": "https://localhost:8080/"
        },
        "id": "Q93uGv5acq1S",
        "outputId": "261f821b-5685-4512-85a1-bfd773f2ab76"
      },
      "outputs": [
        {
          "output_type": "stream",
          "name": "stdout",
          "text": [
            "+----------+-----------+----------+\n",
            "|customerID|churn_index|prediction|\n",
            "+----------+-----------+----------+\n",
            "|0004-TLHLJ|        1.0|       1.0|\n",
            "|0013-SMEOE|        0.0|       0.0|\n",
            "|0015-UOCOJ|        0.0|       1.0|\n",
            "|0016-QLJIS|        0.0|       0.0|\n",
            "|0019-EFAEP|        0.0|       0.0|\n",
            "|0019-GFNTW|        0.0|       0.0|\n",
            "|0020-INWCK|        0.0|       0.0|\n",
            "|0023-HGHWL|        1.0|       1.0|\n",
            "|0023-XUOPT|        1.0|       1.0|\n",
            "|0030-FNXPP|        0.0|       0.0|\n",
            "|0031-PVLZI|        1.0|       0.0|\n",
            "|0042-JVWOJ|        0.0|       0.0|\n",
            "|0042-RLHYP|        0.0|       0.0|\n",
            "|0048-LUMLS|        0.0|       0.0|\n",
            "|0052-DCKON|        0.0|       0.0|\n",
            "|0056-EPFBG|        0.0|       0.0|\n",
            "|0057-QBUQH|        0.0|       0.0|\n",
            "|0064-YIJGF|        0.0|       0.0|\n",
            "|0071-NDAFP|        0.0|       0.0|\n",
            "|0074-HDKDG|        0.0|       0.0|\n",
            "+----------+-----------+----------+\n",
            "only showing top 20 rows\n",
            "\n",
            "False Positives: 114\n",
            "False Negatives: 197\n",
            "Accuracy: 0.8450423517688092\n"
          ]
        }
      ],
      "source": [
        "#KNN\n",
        "\n",
        "from pyspark.sql.functions import col\n",
        "from pyspark.ml.feature import VectorAssembler\n",
        "from pyspark.ml import Pipeline\n",
        "from pyspark.ml.evaluation import MulticlassClassificationEvaluator\n",
        "from pyspark.sql import SparkSession\n",
        "from sklearn.neighbors import KNeighborsClassifier\n",
        "from sklearn.preprocessing import StandardScaler\n",
        "from sklearn.pipeline import Pipeline as SkPipeline\n",
        "from sklearn.compose import ColumnTransformer\n",
        "from sklearn.impute import SimpleImputer\n",
        "\n",
        "spark = SparkSession.builder \\\n",
        "    .appName(\"KNN Churn Prediction\") \\\n",
        "    .getOrCreate()\n",
        "\n",
        "for model_type in [\"KNN\"]:\n",
        "    for col_name in feature_cols:\n",
        "        indexed_df_dropped = indexed_df_dropped.withColumn(col_name, col(col_name).cast(\"double\")).fillna(0, subset=[col_name])\n",
        "\n",
        "    assembler = VectorAssembler(inputCols=feature_cols, outputCol=\"features\")\n",
        "\n",
        "    pd_df = indexed_df_dropped.toPandas()\n",
        "\n",
        "    knn_pipeline = SkPipeline([\n",
        "        ('imputer', SimpleImputer(strategy='mean')),\n",
        "        ('scaler', StandardScaler()),\n",
        "        ('knn', KNeighborsClassifier(n_neighbors=5))\n",
        "    ])\n",
        "\n",
        "    knn_pipeline.fit(pd_df[feature_cols], pd_df['churn_index'])\n",
        "\n",
        "    test_pd_df = test_data.toPandas()\n",
        "\n",
        "    predictions = knn_pipeline.predict(test_pd_df[feature_cols])\n",
        "\n",
        "    predictions_df = spark.createDataFrame(test_pd_df[['customerID', 'churn_index']].assign(prediction=predictions))\n",
        "\n",
        "    evaluator = MulticlassClassificationEvaluator(labelCol=\"churn_index\", predictionCol=\"prediction\", metricName=\"accuracy\")\n",
        "    accuracy = evaluator.evaluate(predictions_df)\n",
        "\n",
        "    fp = predictions_df.filter(\"prediction == 1 AND churn_index == 0\").count()\n",
        "    fn = predictions_df.filter(\"prediction == 0 AND churn_index == 1\").count()\n",
        "\n",
        "    result_df = result_df.union(spark.createDataFrame([(model_type,accuracy,fp,fn)], [\"Model_Type\",\"Accuracy\", \"False_Positive_Count\",\"False_Negative_Count\"]))\n",
        "\n",
        "    predictions_df.select(\"customerID\", \"churn_index\", \"prediction\").show()\n",
        "\n",
        "    print(\"False Positives:\", fp)\n",
        "    print(\"False Negatives:\", fn)\n",
        "    print(\"Accuracy:\", accuracy)\n"
      ]
    },
    {
      "cell_type": "code",
      "source": [
        "from pyspark.sql.functions import col\n",
        "from pyspark.ml.feature import VectorAssembler\n",
        "from pyspark.ml import Pipeline\n",
        "from pyspark.ml.evaluation import MulticlassClassificationEvaluator\n",
        "from pyspark.sql import SparkSession\n",
        "import matplotlib.pyplot as plt\n",
        "import seaborn as sns\n",
        "import numpy as np\n",
        "import matplotlib.pyplot as plt\n",
        "import seaborn as sns\n",
        "\n",
        "\n",
        "pd_df = indexed_df_dropped.toPandas()\n",
        "\n",
        "knn_pipeline = SkPipeline([\n",
        "    ('imputer', SimpleImputer(strategy='mean')),\n",
        "    ('scaler', StandardScaler()),\n",
        "    ('knn', KNeighborsClassifier(n_neighbors=5))\n",
        "])\n",
        "\n",
        "knn_pipeline.fit(pd_df[feature_cols], pd_df['churn_index'])\n",
        "\n",
        "test_pd_df = test_data.toPandas()\n",
        "\n",
        "predictions = knn_pipeline.predict(test_pd_df[feature_cols])\n",
        "\n",
        "predictions_df = spark.createDataFrame(test_pd_df[['customerID','tenure','TotalCharges','churn_index']].assign(prediction=predictions))\n",
        "\n",
        "positive_churn_predictions = predictions_df.filter(\"churn_index == 1\")\n",
        "\n",
        "positive_churn_pd_df = positive_churn_predictions.toPandas()\n",
        "\n",
        "plt.figure(figsize=(10, 6))\n",
        "sns.scatterplot(data=positive_churn_pd_df, x='tenure', y='TotalCharges', hue='prediction', palette='viridis', alpha=0.6)\n",
        "plt.title('Positive Churn Predictions')\n",
        "plt.xlabel('Tenure')\n",
        "plt.ylabel('TotalCharges')\n",
        "plt.legend(title='Prediction')\n",
        "\n",
        "plt.show()"
      ],
      "metadata": {
        "id": "U8xEPb76MrLv"
      },
      "execution_count": null,
      "outputs": []
    },
    {
      "cell_type": "code",
      "execution_count": null,
      "metadata": {
        "colab": {
          "base_uri": "https://localhost:8080/"
        },
        "id": "Mp0J-qyaQIIO",
        "outputId": "0d924b86-f787-404c-8f99-86559c7d37d1"
      },
      "outputs": [
        {
          "output_type": "stream",
          "name": "stdout",
          "text": [
            "+-------------------+------------------+--------------------+--------------------+-------------------------+\n",
            "|         Model_Type|          Accuracy|False_Positive_Count|False_Negative_Count|False_Negative_Percentage|\n",
            "+-------------------+------------------+--------------------+--------------------+-------------------------+\n",
            "|                KNN|0.8450423517688092|                 114|                 197|                   10.54%|\n",
            "|      Decision Tree|0.8031888390632785|                 175|                 220|                   11.77%|\n",
            "|Logistic Regression|0.8141504733432985|                 130|                 243|                   13.00%|\n",
            "|                GBT|0.8051818634778276|                 134|                 257|                   13.75%|\n",
            "+-------------------+------------------+--------------------+--------------------+-------------------------+\n",
            "\n"
          ]
        }
      ],
      "source": [
        "false_negative_percentage = (col(\"False_Negative_Count\") / 1869) * 100\n",
        "\n",
        "result_df = result_df.withColumn(\"False_Negative_Percentage\",\n",
        "                                  concat(format_number(false_negative_percentage, 2), lit(\"%\")))\n",
        "\n",
        "result_df.orderBy(\"False_Negative_Percentage\", ascending=True).show()"
      ]
    },
    {
      "cell_type": "code",
      "source": [
        "num_rows = telco_df.count()\n",
        "\n",
        "num_features = len(telco_df.columns)\n",
        "\n",
        "print(\"Number of rows:\", num_rows)\n",
        "print(\"Number of features:\", num_features)"
      ],
      "metadata": {
        "colab": {
          "base_uri": "https://localhost:8080/"
        },
        "id": "aotW7G1ZF_Fe",
        "outputId": "4255b2de-af41-44f4-a83d-c2c904a08e06"
      },
      "execution_count": null,
      "outputs": [
        {
          "output_type": "stream",
          "name": "stdout",
          "text": [
            "Number of rows: 7043\n",
            "Number of features: 21\n"
          ]
        }
      ]
    }
  ],
  "metadata": {
    "colab": {
      "provenance": []
    },
    "kernelspec": {
      "display_name": "Python 3",
      "name": "python3"
    },
    "language_info": {
      "name": "python"
    }
  },
  "nbformat": 4,
  "nbformat_minor": 0
}